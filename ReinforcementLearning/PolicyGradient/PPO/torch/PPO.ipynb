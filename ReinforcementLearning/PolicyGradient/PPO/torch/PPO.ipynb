{
 "cells": [
  {
   "cell_type": "markdown",
   "id": "998568d6",
   "metadata": {},
   "source": [
    "\n",
    "Proximal Policy Optimization\n",
    "==========\n",
    "\n",
    "\n",
    "PPO is motivated by the same question as TRPO: how can we take the biggest possible improvement step on a policy using the data we currently have, without stepping so far that we accidentally cause performance collapse? Where TRPO tries to solve this problem with a complex second-order method, <span style=\"color:red\">PPO is a family of first-order methods that use a few other tricks to keep new policies close to old.</span> PPO methods are significantly simpler to implement, and empirically seem to perform at least as well as TRPO.\n",
    "\n",
    "There are two primary variants of PPO: PPO-Penalty and PPO-Clip. \n",
    "\n",
    "**PPO-Penalty** approximately solves a KL-constrained update like TRPO, but penalizes the KL-divergence in the objective function instead of making it a hard constraint, and automatically adjusts the penalty coefficient over the course of training so that it's scaled appropriately. \n",
    "\n",
    "**<span style=\"color:red\">PPO-Clip</span>** doesn't have a KL-divergence term in the objective and doesn't have a constraint at all. Instead relies on specialized clipping in the objective function to remove incentives for the new policy to get far from the old policy. \n",
    "\n",
    "Here, we'll focus only on PPO-Clip (the primary variant used at OpenAI)."
   ]
  },
  {
   "cell_type": "markdown",
   "id": "9953bf7b",
   "metadata": {},
   "source": [
    "Quick Facts\n",
    "-----------\n",
    "\n",
    "* PPO is an on-policy algorithm.\n",
    "* PPO can be used for environments with either discrete or continuous action spaces.\n",
    "* The Spinning Up implementation of PPO supports parallelization with MPI."
   ]
  },
  {
   "cell_type": "markdown",
   "id": "f45d08c9",
   "metadata": {},
   "source": [
    "Key Equations\n",
    "-------------\n",
    "\n",
    "PPO-clip updates policies via\n",
    "\n",
    "\\begin{align*}\n",
    "    \\theta_{k+1} = \\arg \\max_{\\theta} \\underset{s,a \\sim \\pi_{\\theta_k}}{{\\mathrm E}}\\left[\n",
    "        L(s,a,\\theta_k, \\theta)\\right],\n",
    "\\end{align*}\n",
    "\n",
    "typically taking multiple steps of (usually minibatch) SGD to maximize the objective. Here $L$ is given by\n",
    "\n",
    "\\begin{align*}\n",
    "    L(s,a,\\theta_k,\\theta) = \\min\\left(\n",
    "    \\frac{\\pi_{\\theta}(a|s)}{\\pi_{\\theta_k}(a|s)}  A^{\\pi_{\\theta_k}}(s,a), \\;\\;\n",
    "    \\text{clip}\\left(\\frac{\\pi_{\\theta}(a|s)}{\\pi_{\\theta_k}(a|s)}, 1 - \\epsilon, 1+\\epsilon \\right) A^{\\pi_{\\theta_k}}(s,a)\n",
    "    \\right),\n",
    "\\end{align*}\n",
    "\n",
    "in which $\\epsilon$ is a (small) hyperparameter which roughly says how far away the new policy is allowed to go from the old.\n",
    "\n",
    "This is a pretty complex expression, and it's hard to tell at first glance what it's doing, or how it helps keep the new policy close to the old policy. As it turns out, there's a considerably simplified version [1]_ of this objective which is a bit easier to grapple with (and is also the version we implement in our code):\n",
    "\n",
    "\\begin{align*}\n",
    "    L(s,a,\\theta_k,\\theta) = \\min\\left(\n",
    "    \\frac{\\pi_{\\theta}(a|s)}{\\pi_{\\theta_k}(a|s)}  A^{\\pi_{\\theta_k}}(s,a), \\;\\;\n",
    "    g(\\epsilon, A^{\\pi_{\\theta_k}}(s,a))\n",
    "    \\right),\n",
    "\\end{align*}\n",
    "\n",
    "where\n",
    "\n",
    "\\begin{align*}\n",
    "    g(\\epsilon, A) = \\left\\{ \n",
    "        \\begin{array}{ll}\n",
    "        (1 + \\epsilon) A & A \\geq 0 \\\\\n",
    "        (1 - \\epsilon) A & A < 0.\n",
    "        \\end{array}\n",
    "        \\right.\n",
    "\\end{align*}\n",
    "\n",
    "To figure out what intuition to take away from this, let's look at a single state-action pair $(s,a)$, and think of cases. \n",
    "\n",
    "**Advantage is positive**: Suppose the advantage for that state-action pair is positive, in which case its contribution to the objective reduces to\n",
    "\n",
    "\\begin{align*}\n",
    "    L(s,a,\\theta_k,\\theta) = \\min\\left(\n",
    "    \\frac{\\pi_{\\theta}(a|s)}{\\pi_{\\theta_k}(a|s)}, (1 + \\epsilon)\n",
    "    \\right)  A^{\\pi_{\\theta_k}}(s,a).\n",
    "\\end{align*}\n",
    "\n",
    "Because the advantage is positive, the objective will increase if the action becomes more likely---that is, if $\\pi_{\\theta}(a|s)$ increases. But the min in this term puts a limit to how *much* the objective can increase. Once $\\pi_{\\theta}(a|s) > (1+\\epsilon) \\pi_{\\theta_k}(a|s)$, the min kicks in and this term hits a ceiling of $(1+\\epsilon) A^{\\pi_{\\theta_k}}(s,a)$. Thus: *the new policy does not benefit by going far away from the old policy*.\n",
    "\n",
    "**Advantage is negative**: Suppose the advantage for that state-action pair is negative, in which case its contribution to the objective reduces to\n",
    "\n",
    "\\begin{align*}\n",
    "    L(s,a,\\theta_k,\\theta) = \\max\\left(\n",
    "    \\frac{\\pi_{\\theta}(a|s)}{\\pi_{\\theta_k}(a|s)}, (1 - \\epsilon)\n",
    "    \\right)  A^{\\pi_{\\theta_k}}(s,a).\n",
    "\\end{align*}\n",
    "\n",
    "Because the advantage is negative, the objective will increase if the action becomes less likely---that is, if $\\pi_{\\theta}(a|s)$ decreases. But the max in this term puts a limit to how *much* the objective can increase. Once $\\pi_{\\theta}(a|s) < (1-\\epsilon) \\pi_{\\theta_k}(a|s)$, the max kicks in and this term hits a ceiling of $(1-\\epsilon) A^{\\pi_{\\theta_k}}(s,a)$. Thus, again: *the new policy does not benefit by going far away from the old policy*.\n",
    "\n",
    "What we have seen so far is that<font color=red>clipping serves as a regularizer by removing incentives for the policy to change dramatically, and the hyperparameter $\\epsilon$ corresponds to how far away the new policy can go from the old while still profiting the objective </font>.\n",
    "\n",
    "**.. admonition:: You Should Know**\n",
    "\n",
    "<font color= red>**[Problem]** While this kind of clipping goes a long way towards ensuring reasonable policy updates, it is still possible to end up with a new policy which is too far from the old policy</font>, and there are a bunch of tricks used by different PPO implementations to stave this off. In our implementation here, we use a particularly simple method: early stopping. If the mean KL-divergence of the new policy from the old grows beyond a threshold, we stop taking gradient steps. \n",
    "When you feel comfortable with the basic math and implementation details, it's worth checking out other implementations to see how they handle this issue!\n",
    "\n",
    "Exploration vs. Exploitation\n",
    "----------------------------\n",
    "\n",
    "PPO trains a stochastic policy in an on-policy way. This means that it explores by sampling actions according to the latest version of its stochastic policy. The amount of randomness in action selection depends on both initial conditions and the training procedure. Over the course of training, the policy typically becomes progressively less random, as the update rule encourages it to exploit rewards that it has already found. This may cause the policy to get trapped in local optima."
   ]
  },
  {
   "cell_type": "markdown",
   "id": "dca7cdae",
   "metadata": {},
   "source": [
    "# Pseudocode\n",
    "![title](https://spinningup.openai.com/en/latest/_images/math/e62a8971472597f4b014c2da064f636ffe365ba3.svg)"
   ]
  },
  {
   "cell_type": "markdown",
   "id": "00853548",
   "metadata": {},
   "source": []
  },
  {
   "cell_type": "code",
   "execution_count": null,
   "id": "f573daa6",
   "metadata": {},
   "outputs": [],
   "source": []
  },
  {
   "cell_type": "code",
   "execution_count": null,
   "id": "927e2e63",
   "metadata": {},
   "outputs": [],
   "source": []
  }
 ],
 "metadata": {
  "kernelspec": {
   "display_name": "Python 3 (ipykernel)",
   "language": "python",
   "name": "python3"
  },
  "language_info": {
   "codemirror_mode": {
    "name": "ipython",
    "version": 3
   },
   "file_extension": ".py",
   "mimetype": "text/x-python",
   "name": "python",
   "nbconvert_exporter": "python",
   "pygments_lexer": "ipython3",
   "version": "3.8.12"
  },
  "latex_envs": {
   "LaTeX_envs_menu_present": true,
   "autoclose": true,
   "autocomplete": true,
   "bibliofile": "biblio.bib",
   "cite_by": "apalike",
   "current_citInitial": 1,
   "eqLabelWithNumbers": true,
   "eqNumInitial": 1,
   "hotkeys": {
    "equation": "Ctrl-E",
    "itemize": "Ctrl-I"
   },
   "labels_anchors": false,
   "latex_user_defs": false,
   "report_style_numbering": false,
   "user_envs_cfg": false
  },
  "toc": {
   "base_numbering": 1,
   "nav_menu": {},
   "number_sections": true,
   "sideBar": true,
   "skip_h1_title": false,
   "title_cell": "Table of Contents",
   "title_sidebar": "Contents",
   "toc_cell": false,
   "toc_position": {},
   "toc_section_display": true,
   "toc_window_display": false
  },
  "varInspector": {
   "cols": {
    "lenName": 16,
    "lenType": 16,
    "lenVar": 40
   },
   "kernels_config": {
    "python": {
     "delete_cmd_postfix": "",
     "delete_cmd_prefix": "del ",
     "library": "var_list.py",
     "varRefreshCmd": "print(var_dic_list())"
    },
    "r": {
     "delete_cmd_postfix": ") ",
     "delete_cmd_prefix": "rm(",
     "library": "var_list.r",
     "varRefreshCmd": "cat(var_dic_list()) "
    }
   },
   "types_to_exclude": [
    "module",
    "function",
    "builtin_function_or_method",
    "instance",
    "_Feature"
   ],
   "window_display": false
  }
 },
 "nbformat": 4,
 "nbformat_minor": 5
}
