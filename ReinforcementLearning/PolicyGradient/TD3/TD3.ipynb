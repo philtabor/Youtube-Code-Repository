{
 "cells": [
  {
   "cell_type": "markdown",
   "id": "d5481796",
   "metadata": {},
   "source": [
    "Twin Delayed DDPG\n",
    "=================\n",
    "\n",
    "<font >While DDPG can achieve great performance sometimes, it is frequently brittle with respect to hyperparameters and other kinds of tuning. <font color=red>**[DDPG problem]** A common failure mode for DDPG is that the learned Q-function begins to dramatically overestimate Q-values, which then leads to the policy breaking, because it exploits the errors in the Q-function</font>. Twin Delayed DDPG (TD3) is an algorithm that addresses this issue by introducing three critical tricks:\n",
    "\n",
    "**Trick One: Clipped Double-Q Learning.** TD3 learns *two* Q-functions instead of one (hence \"twin\"), and uses the smaller of the two Q-values to form the targets in the Bellman error loss functions.\n",
    "\n",
    "**Trick Two: \"Delayed\" Policy Updates.** TD3 updates the policy (and target networks) less frequently than the Q-function. The paper recommends one policy update for every two Q-function updates.\n",
    "\n",
    "**Trick Three: Target Policy Smoothing.** TD3 adds noise to the target action, to make it harder for the policy to exploit Q-function errors by smoothing out Q along changes in action.\n",
    "\n",
    "Together, these three tricks result in substantially improved performance over baseline DDPG.\n",
    "\n",
    "Quick Facts\n",
    "-----------\n",
    "\n",
    "* TD3 is an off-policy algorithm.\n",
    "* TD3 can only be used for environments with continuous action spaces.\n",
    "* The Spinning Up implementation of TD3 does not support parallelization.\n",
    "\n",
    "Key Equations\n",
    "-------------\n",
    "\n",
    "TD3 concurrently learns two Q-functions, $Q_{\\phi_1}$ and $Q_{\\phi_2}$, by mean square Bellman error minimization, in almost the same way that DDPG learns its single Q-function. To show exactly how TD3 does this and how it differs from normal DDPG, we'll work from the innermost part of the loss function outwards.\n",
    "\n",
    "**First: target policy smoothing**. Actions used to form the Q-learning target are based on the target policy, $\\mu_{\\theta_{\\text{targ}}}$, but <font color=red>with clipped noise added on each dimension of the action</font>. After adding the clipped noise, the target action is then clipped to lie in the valid action range (all valid actions, $a$, satisfy $a_{Low} \\leq a \\leq a_{High}$). The target actions are thus: \n",
    "\n",
    "\\begin{align*}\n",
    "    a'(s') = \\text{clip}\\left(\\mu_{\\theta_{\\text{targ}}}(s') + \\text{clip}(\\epsilon,-c,c), a_{Low}, a_{High}\\right), \\;\\;\\;\\;\\; \\epsilon \\sim \\mathcal{N}(0, \\sigma)\n",
    "\\end{align*}\n",
    "\n",
    "Target policy smoothing essentially serves as a regularizer for the algorithm. It addresses a particular failure mode that can happen in DDPG: if the Q-function approximator develops an incorrect sharp peak for some actions, the policy will quickly exploit that peak and then have brittle or incorrect behavior. This can be averted by smoothing out the Q-function over similar actions, which target policy smoothing is designed to do. \n",
    "\n",
    "**Next: clipped double-Q learning**. Both Q-functions use a single target, calculated using whichever of the two Q-functions gives a smaller target value:\n",
    "\n",
    "\\begin{align*}\n",
    "    y(r,s',d) = r + \\gamma (1 - d) \\min_{i=1,2} Q_{\\phi_{i, \\text{targ}}}(s', a'(s')),\n",
    "\\end{align*}\n",
    "and then both are learned by regressing to this target:\n",
    "\n",
    "\\begin{align*}\n",
    "    L(\\phi_1, {\\mathcal D}) = E_{(s,a,r,s',d) \\sim {\\mathcal D}}{\n",
    "        \\Bigg( Q_{\\phi_1}(s,a) - y(r,s',d) \\Bigg)^2\n",
    "        },\n",
    "\\end{align*}\n",
    "\\begin{align*}\n",
    "    L(\\phi_2, {\\mathcal D}) = E_{(s,a,r,s',d) \\sim {\\mathcal D}}{\n",
    "        \\Bigg( Q_{\\phi_2}(s,a) - y(r,s',d) \\Bigg)^2\n",
    "        }.\n",
    "\\end{align*}\n",
    "Using the smaller Q-value for the target, and regressing towards that, helps fend off overestimation in the Q-function.\n",
    "\n",
    "**Lastly: the policy is learned just by maximizing $Q_{\\phi_1}$**:\n",
    "\n",
    "\\begin{align*}\n",
    "    \\max_{\\theta} \\underset{s \\sim {\\mathcal D}}{{\\mathrm E}}\\left[ Q_{\\phi_1}(s, \\mu_{\\theta}(s)) \\right],\n",
    "\\end{align*}\n",
    "which is pretty much unchanged from DDPG. However, in TD3, the policy is updated less frequently than the Q-functions are. This helps damp the volatility that normally arises in DDPG because of how a policy update changes the target.\n",
    "\n",
    "\n",
    "Exploration vs. Exploitation\n",
    "----------------------------\n",
    "\n",
    "TD3 trains a deterministic policy in an off-policy way. Because the policy is deterministic, if the agent were to explore on-policy, in the beginning it would probably not try a wide enough variety of actions to find useful learning signals. To make TD3 policies explore better, we add noise to their actions at training time, typically uncorrelated mean-zero Gaussian noise. To facilitate getting higher-quality training data, you may reduce the scale of the noise over the course of training. (We do not do this in our implementation, and keep noise scale fixed throughout.)\n",
    "\n",
    "At test time, to see how well the policy exploits what it has learned, we do not add noise to the actions.\n",
    "\n",
    "**.. admonition:: You Should Know**\n",
    "\n",
    "Our TD3 implementation uses a trick to improve exploration at the start of training. For a fixed number of steps at the beginning (set with the ``start_steps`` keyword argument), the agent takes actions which are sampled from a uniform random distribution over valid actions. After that, it returns to normal TD3 exploration.\n",
    "\n",
    "\n",
    "Pseudocode\n",
    "----------\n",
    "![title](https://spinningup.openai.com/en/latest/_images/math/b7dfe8fa3a703b9657dcecb624c4457926e0ce8a.svg)\n"
   ]
  },
  {
   "cell_type": "code",
   "execution_count": 6,
   "id": "f9ae1b5f",
   "metadata": {
    "ExecuteTime": {
     "end_time": "2022-04-11T23:39:21.104700Z",
     "start_time": "2022-04-11T23:39:21.092137Z"
    }
   },
   "outputs": [],
   "source": [
    "import pandas as pd \n",
    "import matplotlib.pyplot as plt\n",
    "TD3 = pd.read_csv('result_TD3.csv')\n",
    "DDPG = pd.read_csv(\"/home/haiyao/Documents/GitHub/6. Youtube-Code-Repository/ReinforcementLearning/PolicyGradient/DDPG/pytorch/lunar-lander/OU_result_DDPG.csv\")"
   ]
  },
  {
   "cell_type": "code",
   "execution_count": 8,
   "id": "d2f714e7",
   "metadata": {
    "ExecuteTime": {
     "end_time": "2022-04-11T23:40:20.814917Z",
     "start_time": "2022-04-11T23:40:20.720828Z"
    }
   },
   "outputs": [
    {
     "data": {
      "text/plain": [
       "Text(0, 0.5, 'average return')"
      ]
     },
     "execution_count": 8,
     "metadata": {},
     "output_type": "execute_result"
    },
    {
     "data": {
      "image/png": "[encoded data removed]",
      "text/plain": [
       "<Figure size 432x288 with 1 Axes>"
      ]
     },
     "metadata": {
      "needs_background": "light"
     },
     "output_type": "display_data"
    }
   ],
   "source": [
    "plt.plot(TD3['0'].rolling(100).mean(),label='TD3')\n",
    "plt.plot(DDPG['0'].rolling(100).mean(),label='DDPG')\n",
    "plt.legend()\n",
    "plt.xlabel('episode')\n",
    "plt.ylabel('average return')"
   ]
  },
  {
   "cell_type": "code",
   "execution_count": null,
   "id": "0e53d24e",
   "metadata": {},
   "outputs": [],
   "source": []
  }
 ],
 "metadata": {
  "kernelspec": {
   "display_name": "Python 3 (ipykernel)",
   "language": "python",
   "name": "python3"
  },
  "language_info": {
   "codemirror_mode": {
    "name": "ipython",
    "version": 3
   },
   "file_extension": ".py",
   "mimetype": "text/x-python",
   "name": "python",
   "nbconvert_exporter": "python",
   "pygments_lexer": "ipython3",
   "version": "3.8.12"
  },
  "latex_envs": {
   "LaTeX_envs_menu_present": true,
   "autoclose": true,
   "autocomplete": true,
   "bibliofile": "biblio.bib",
   "cite_by": "apalike",
   "current_citInitial": 1,
   "eqLabelWithNumbers": true,
   "eqNumInitial": 1,
   "hotkeys": {
    "equation": "Ctrl-E",
    "itemize": "Ctrl-I"
   },
   "labels_anchors": false,
   "latex_user_defs": false,
   "report_style_numbering": false,
   "user_envs_cfg": false
  },
  "toc": {
   "base_numbering": 1,
   "nav_menu": {},
   "number_sections": true,
   "sideBar": true,
   "skip_h1_title": false,
   "title_cell": "Table of Contents",
   "title_sidebar": "Contents",
   "toc_cell": false,
   "toc_position": {},
   "toc_section_display": true,
   "toc_window_display": false
  },
  "varInspector": {
   "cols": {
    "lenName": 16,
    "lenType": 16,
    "lenVar": 40
   },
   "kernels_config": {
    "python": {
     "delete_cmd_postfix": "",
     "delete_cmd_prefix": "del ",
     "library": "var_list.py",
     "varRefreshCmd": "print(var_dic_list())"
    },
    "r": {
     "delete_cmd_postfix": ") ",
     "delete_cmd_prefix": "rm(",
     "library": "var_list.r",
     "varRefreshCmd": "cat(var_dic_list()) "
    }
   },
   "types_to_exclude": [
    "module",
    "function",
    "builtin_function_or_method",
    "instance",
    "_Feature"
   ],
   "window_display": false
  }
 },
 "nbformat": 4,
 "nbformat_minor": 5
}