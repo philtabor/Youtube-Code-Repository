{
 "cells": [
  {
   "cell_type": "markdown",
   "id": "ae7e297a",
   "metadata": {},
   "source": [
    "Deep Deterministic Policy Gradient\n",
    "==========\n",
    "\n",
    "Deep Deterministic Policy Gradient (DDPG) is an algorithm which concurrently learns a Q-function and a policy. It uses off-policy data and the Bellman equation to learn the Q-function, and uses the Q-function to learn the policy.\n",
    "\n",
    "This approach is closely connected to Q-learning, and is motivated the same way: if you know the optimal action-value function $Q^*(s,a)$, then in any given state, the optimal action $a^*(s)$ can be found by solving\n",
    "\n",
    "$$a^*(s) = \\arg \\max_a Q^*(s,a).$$\n",
    "\n",
    "DDPG interleaves learning an approximator to $Q^*(s,a)$ with learning an approximator to $a^*(s)$, and it does so in a way which is specifically adapted for environments with continuous action spaces. But what does it mean that DDPG is adapted *specifically* for environments with continuous action spaces? It relates to how we compute the max over actions in $\\max_a Q^*(s,a)$. \n",
    "\n",
    "When there are a finite number of discrete actions, the max poses no problem, because we can just compute the Q-values for each action separately and directly compare them. (This also immediately gives us the action which maximizes the Q-value.) But when the action space is continuous, we can't exhaustively evaluate the space, and solving the optimization problem is highly non-trivial. Using a normal optimization algorithm would make calculating $\\max_a Q^*(s,a)$ a painfully expensive subroutine. And since it would need to be run every time the agent wants to take an action in the environment, this is unacceptable.\n",
    "\n",
    "Because the action space is continuous, the function $Q^*(s,a)$ is presumed to be differentiable with respect to the action argument. This allows us to set up an efficient, gradient-based learning rule for a policy $\\mu(s)$ which exploits that fact. Then, instead of running an expensive optimization subroutine each time we wish to compute $\\max_a Q(s,a)$, we can approximate it with $\\max_a Q(s,a) \\approx Q(s,\\mu(s))$. See the Key Equations section details.\n",
    "\n",
    "Quick Facts\n",
    "========\n",
    "* DDPG is an off-policy algorithm.\n",
    "\n",
    "* DDPG can only be used for environments with continuous action spaces.\n",
    "\n",
    "* DDPG can be thought of as being deep Q-learning for continuous action spaces.\n",
    "\n",
    "* The Spinning Up implementation of DDPG does not support parallelization."
   ]
  },
  {
   "cell_type": "markdown",
   "id": "fdda0dd4",
   "metadata": {},
   "source": [
    "# Key Equations\n",
    "Here, we’ll explain the math behind the two parts of DDPG: learning a Q function, and learning a policy.\n",
    "\n",
    "## The Q-Learning Side of DDPG\n",
    "\n",
    "\n",
    "First, let's recap the Bellman equation describing the optimal action-value function, $Q^*(s,a)$. It's given by\n",
    "    $$Q^*(s,a) = \\underset{s' \\sim P}{{\\mathrm E}}\\left[r(s,a) + \\gamma \\max_{a'} Q^*(s', a')\\right]$$\n",
    "\n",
    "where $s' \\sim P$ is shorthand for saying that the next state, $s'$, is sampled by the environment from a distribution $P(\\cdot| s,a)$. \n",
    "\n",
    "This Bellman equation is the starting point for learning an approximator to $Q^*(s,a)$. Suppose the approximator is a neural network $Q_{\\phi}(s,a)$, with parameters $\\phi$, and that we have collected a set ${\\mathcal D}$ of transitions $(s,a,r,s',d)$ (where $d$ indicates whether state $s'$ is terminal). We can set up a **mean-squared Bellman error (MSBE)** function, which tells us roughly how closely $Q_{\\phi}$ comes to satisfying the Bellman equation:\n",
    "\\begin{align*}\n",
    "L(\\phi, {\\mathcal D}) = \\underset{(s,a,r,s',d) \\sim {\\mathcal D}}{{\\mathrm E}}\\left[\n",
    "        \\Bigg( Q_{\\phi}(s,a) - \\left(r + \\gamma (1 - d) \\max_{a'} Q_{\\phi}(s',a') \\right) \\Bigg)^2\n",
    "        \\right]\n",
    "\\end{align*}\n",
    "\n",
    "Here, in evaluating $(1-d)$, we've used a Python convention of evaluating ``True`` to 1 and ``False`` to zero. Thus, when ``d==True``which is to say, when $s'$ is a terminal state---the Q-function should show that the agent gets no additional rewards after the current state. (This choice of notation corresponds to what we later implement in code.)\n",
    "\n",
    "**Trick One: Replay Buffers.** All standard algorithms for training a deep neural network to approximate $Q^*(s,a)$ make use of an experience replay buffer. This is the set ${\\mathcal D}$ of previous experiences. In order for the algorithm to have stable behavior, the replay buffer should be large enough to contain a wide range of experiences, but it may not always be good to keep everything. If you only use the very-most recent data, you will overfit to that and things will break; if you use too much experience, you may slow down your learning. This may take some tuning to get right.\n",
    "\n",
    "**Trick Two: Target Networks.** Q-learning algorithms make use of **target networks**. The term \n",
    "\n",
    "\\begin{align*}\n",
    "    r + \\gamma (1 - d) \\max_{a'} Q_{\\phi}(s',a')\n",
    "\\end{align*}\n",
    "\n",
    "is called the **target**, because when we minimize the MSBE loss, we are trying to make the Q-function be more like this target. Problematically, the target depends on the same parameters we are trying to train: $\\phi$. This makes MSBE minimization unstable. The solution is to use a set of parameters which comes close to $\\phi$, but with a time delay---that is to say, a second network, called the target network, which lags the first. The parameters of the target network are denoted $\\phi_{\\text{targ}}$. \n",
    "\n",
    "In DQN-based algorithms, the target network is just copied over from the main network every some-fixed-number of steps. In DDPG-style algorithms, the target network is updated once per main network update by polyak averaging:\n",
    "\n",
    "\\begin{align*}\n",
    "    \\phi_{\\text{targ}} \\leftarrow \\rho \\phi_{\\text{targ}} + (1 - \\rho) \\phi,\n",
    "\\end{align*}\n",
    "\n",
    "where $\\rho$ is a hyperparameter between 0 and 1 (usually close to 1). (This hyperparameter is called ``polyak`` in our code).\n",
    "\n",
    "**DDPG Detail: Calculating the Max Over Actions in the Target.** As mentioned earlier: computing the maximum over actions in the target is a challenge in continuous action spaces. DDPG deals with this by using a **target policy network** to compute an action which approximately maximizes $Q_{\\phi_{\\text{targ}}}$. The target policy network is found the same way as the target Q-function: by polyak averaging the policy parameters over the course of training. \n",
    "\n",
    "Putting it all together, Q-learning in DDPG is performed by minimizing the following MSBE loss with stochastic gradient descent:\n",
    "\n",
    "\\begin{align*}\n",
    "    L(\\phi, {\\mathcal D}) = \\underset{(s,a,r,s',d) \\sim {\\mathcal D}}{{\\mathrm E}}\\left[\n",
    "        \\Bigg( Q_{\\phi}(s,a) - \\left(r + \\gamma (1 - d) Q_{\\phi_{\\text{targ}}}(s', \\mu_{\\theta_{\\text{targ}}}(s')) \\right) \\Bigg)^2\n",
    "        \\right],\n",
    "\\end{align*}\n",
    "\n",
    "where $\\mu_{\\theta_{\\text{targ}}}$ is the target policy.\n",
    "\n",
    "\n",
    "## The Policy Learning Side of DDPG\n",
    "\n",
    "Policy learning in DDPG is fairly simple. We want to learn a deterministic policy $\\mu_{\\theta}(s)$ which gives the action that maximizes $Q_{\\phi}(s,a)$. Because the action space is continuous, and we assume the Q-function is differentiable with respect to action, we can just perform gradient ascent (with respect to policy parameters only) to solve\n",
    "\n",
    "\\begin{align*}\n",
    "    \\max_{\\theta} \\underset{s \\sim {\\mathcal D}}{{\\mathrm E}}\\left[ Q_{\\phi}(s, \\mu_{\\theta}(s)) \\right].\n",
    "\\end{align*}\n",
    "\n",
    "Note that <span style=\"color:red\">the Q-function parameters are treated as constants here</span>.\n",
    "\n",
    "Exploration vs. Exploitation\n",
    "----------------------------\n",
    "\n",
    "DDPG trains a deterministic policy in an off-policy way. Because the policy is deterministic, if the agent were to explore on-policy, in the beginning it would probably not try a wide enough variety of actions to find useful learning signals. To make DDPG policies explore better, we add noise to their actions at training time. The authors of the original DDPG paper recommended time-correlated `OU noise`, but more recent results suggest that uncorrelated, mean-zero Gaussian noise works perfectly well. Since the latter is simpler, it is preferred. To facilitate getting higher-quality training data, you may reduce the scale of the noise over the course of training. (We do not do this in our implementation, and keep noise scale fixed throughout.) <span style='color:orange'>result compared to Gaussian noise</span>\n",
    "\n",
    "At test time, to see how well the policy exploits what it has learned, we do not add noise to the actions.\n",
    "\n",
    "`OU noise`: https://en.wikipedia.org/wiki/Ornstein%E2%80%93Uhlenbeck_process\n",
    "\n",
    "**.. admonition:: You Should Know**\n",
    "\n",
    "Our DDPG implementation uses a trick to improve exploration at the start of training. For a fixed number of steps at the beginning (set with the ``start_steps`` keyword argument), the agent takes actions which are sampled from a uniform random distribution over valid actions. After that, it returns to normal DDPG exploration.\n"
   ]
  },
  {
   "cell_type": "markdown",
   "id": "e74e7b5f",
   "metadata": {},
   "source": [
    "# Pseudocode\n",
    "![title](https://spinningup.openai.com/en/latest/_images/math/5811066e89799e65be299ec407846103fcf1f746.svg)"
   ]
  },
  {
   "cell_type": "code",
   "execution_count": 1,
   "id": "564f2c5f",
   "metadata": {
    "ExecuteTime": {
     "end_time": "2022-04-11T23:33:39.114710Z",
     "start_time": "2022-04-11T23:33:39.101113Z"
    }
   },
   "outputs": [],
   "source": [
    "import pandas as pd \n",
    "import matplotlib.pyplot as plt\n",
    "OU_noise = pd.read_csv('OU_result_DDPG.csv')\n",
    "Gaussian_noise = pd.read_csv(\"GA_result_DDPG.csv\")"
   ]
  },
  {
   "cell_type": "code",
   "execution_count": 1,
   "id": "6c048c3d",
   "metadata": {
    "ExecuteTime": {
     "end_time": "2022-04-11T22:52:03.454312Z",
     "start_time": "2022-04-11T22:52:03.443157Z"
    }
   },
   "outputs": [],
   "source": []
  },
  {
   "cell_type": "code",
   "execution_count": 3,
   "id": "d869d791",
   "metadata": {
    "ExecuteTime": {
     "end_time": "2022-04-11T23:40:10.845711Z",
     "start_time": "2022-04-11T23:40:10.752409Z"
    },
    "scrolled": true
   },
   "outputs": [
    {
     "data": {
      "text/plain": [
       "Text(0, 0.5, 'average return')"
      ]
     },
     "execution_count": 3,
     "metadata": {},
     "output_type": "execute_result"
    },
    {
     "data": {
      "image/png": "[encoded data removed]",
      "text/plain": [
       "<Figure size 432x288 with 1 Axes>"
      ]
     },
     "metadata": {
      "needs_background": "light"
     },
     "output_type": "display_data"
    }
   ],
   "source": [
    "plt.plot(OU_noise['0'].rolling(100).mean(),label='OU_noise')\n",
    "plt.plot(Gaussian_noise['0'].rolling(100).mean(),label='Gaussian_noise')\n",
    "plt.legend()\n",
    "plt.xlabel('episode')\n",
    "plt.ylabel('average return')"
   ]
  },
  {
   "cell_type": "code",
   "execution_count": 3,
   "id": "1c75bb8d",
   "metadata": {},
   "outputs": [],
   "source": [
    "import gym"
   ]
  },
  {
   "cell_type": "code",
   "execution_count": 5,
   "id": "b5e7744e",
   "metadata": {},
   "outputs": [],
   "source": [
    "env = gym.make(\"LunarLanderContinuous-v2\")"
   ]
  },
  {
   "cell_type": "code",
   "execution_count": 7,
   "id": "0b4fea35",
   "metadata": {},
   "outputs": [
    {
     "data": {
      "text/plain": [
       "array([ 0.00217943,  1.420184  ,  0.22073483,  0.41172412, -0.00251861,\n",
       "       -0.04999975,  0.        ,  0.        ], dtype=float32)"
      ]
     },
     "execution_count": 7,
     "metadata": {},
     "output_type": "execute_result"
    }
   ],
   "source": [
    "env.reset()"
   ]
  },
  {
   "cell_type": "code",
   "execution_count": 10,
   "id": "758f50d8",
   "metadata": {},
   "outputs": [],
   "source": [
    "a = env.action_space"
   ]
  },
  {
   "cell_type": "code",
   "execution_count": 19,
   "id": "b2f23026",
   "metadata": {},
   "outputs": [
    {
     "data": {
      "text/plain": [
       "(array([ 0.00433798,  1.4294853 ,  0.21845524,  0.41338703, -0.00509453,\n",
       "        -0.05152224,  0.        ,  0.        ], dtype=float32),\n",
       " -1.4528984071950561,\n",
       " False,\n",
       " {})"
      ]
     },
     "execution_count": 19,
     "metadata": {},
     "output_type": "execute_result"
    }
   ],
   "source": [
    "env.step((0.5,0.5))"
   ]
  },
  {
   "cell_type": "code",
   "execution_count": 21,
   "id": "99e699f5",
   "metadata": {},
   "outputs": [
    {
     "data": {
      "text/plain": [
       "<TimeLimit<LunarLanderContinuous<LunarLanderContinuous-v2>>>"
      ]
     },
     "execution_count": 21,
     "metadata": {},
     "output_type": "execute_result"
    }
   ],
   "source": [
    "env"
   ]
  }
 ],
 "metadata": {
  "kernelspec": {
   "display_name": "Python 3 (ipykernel)",
   "language": "python",
   "name": "python3"
  },
  "language_info": {
   "codemirror_mode": {
    "name": "ipython",
    "version": 3
   },
   "file_extension": ".py",
   "mimetype": "text/x-python",
   "name": "python",
   "nbconvert_exporter": "python",
   "pygments_lexer": "ipython3",
   "version": "3.8.12"
  },
  "latex_envs": {
   "LaTeX_envs_menu_present": true,
   "autoclose": false,
   "autocomplete": true,
   "bibliofile": "biblio.bib",
   "cite_by": "apalike",
   "current_citInitial": 1,
   "eqLabelWithNumbers": true,
   "eqNumInitial": 1,
   "hotkeys": {
    "equation": "Ctrl-E",
    "itemize": "Ctrl-I"
   },
   "labels_anchors": false,
   "latex_user_defs": false,
   "report_style_numbering": false,
   "user_envs_cfg": false
  },
  "toc": {
   "base_numbering": 1,
   "nav_menu": {},
   "number_sections": true,
   "sideBar": true,
   "skip_h1_title": false,
   "title_cell": "Table of Contents",
   "title_sidebar": "Contents",
   "toc_cell": false,
   "toc_position": {},
   "toc_section_display": true,
   "toc_window_display": false
  },
  "varInspector": {
   "cols": {
    "lenName": 16,
    "lenType": 16,
    "lenVar": 40
   },
   "kernels_config": {
    "python": {
     "delete_cmd_postfix": "",
     "delete_cmd_prefix": "del ",
     "library": "var_list.py",
     "varRefreshCmd": "print(var_dic_list())"
    },
    "r": {
     "delete_cmd_postfix": ") ",
     "delete_cmd_prefix": "rm(",
     "library": "var_list.r",
     "varRefreshCmd": "cat(var_dic_list()) "
    }
   },
   "types_to_exclude": [
    "module",
    "function",
    "builtin_function_or_method",
    "instance",
    "_Feature"
   ],
   "window_display": false
  }
 },
 "nbformat": 4,
 "nbformat_minor": 5
}
